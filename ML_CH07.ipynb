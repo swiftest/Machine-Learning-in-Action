{
 "cells": [
  {
   "cell_type": "markdown",
   "metadata": {},
   "source": [
    "# 利用AdaBoost元算法提高分类性能"
   ]
  },
  {
   "cell_type": "code",
   "execution_count": 1,
   "metadata": {},
   "outputs": [],
   "source": [
    "import numpy as np\n",
    "import matplotlib.pyplot as plt\n",
    "import matplotlib as mpl\n",
    "\n",
    "%matplotlib inline\n",
    "\n",
    "\n",
    "def loadSimpData():\n",
    "    datMat = np.matrix([[1., 2.1], \n",
    "                        [2., 1.1],\n",
    "                        [1.3, 1.],\n",
    "                        [1., 1.],\n",
    "                        [2., 1.]])\n",
    "    classLabels = [1.0, 1.0, -1.0, -1.0, 1.0]\n",
    "    return datMat, classLabels"
   ]
  },
  {
   "cell_type": "code",
   "execution_count": 2,
   "metadata": {},
   "outputs": [],
   "source": [
    "datMat, classLabels = loadSimpData()"
   ]
  },
  {
   "cell_type": "markdown",
   "metadata": {},
   "source": [
    "## 基于单层决策树构建弱分类器"
   ]
  },
  {
   "cell_type": "code",
   "execution_count": 3,
   "metadata": {},
   "outputs": [],
   "source": [
    "def stumpClassify(dataMatrix, dimen, threshVal, threshIneq):\n",
    "    retArray = np.ones((np.shape(dataMatrix)[0], 1))\n",
    "    if threshIneq == 'lt':\n",
    "        retArray[dataMatrix[:, dimen] <= threshVal] = -1.0\n",
    "    else:\n",
    "        retArray[dataMatrix[:, dimen] > threshVal] = -1.0\n",
    "    return retArray\n",
    "\n",
    "\n",
    "def buildStump(dataArr, classLabels, D):\n",
    "    dataMatrix = np.mat(dataArr)\n",
    "    labelMat = np.mat(classLabels).T\n",
    "    m, n = np.shape(dataMatrix)\n",
    "    numSteps = 10.0\n",
    "    bestStump = {}\n",
    "    bestClasEst = np.mat(np.zeros((m, 1)))\n",
    "    minError = np.inf\n",
    "    for i in range(n):\n",
    "        rangeMin = dataMatrix[:, i].min()\n",
    "        rangeMax = dataMatrix[:, i].max()\n",
    "        stepSize = (rangeMax - rangeMin) / numSteps\n",
    "        for j in range(-1, int(numSteps) + 1):\n",
    "            for inequal in ['lt', 'gt']:\n",
    "                threshVal = (rangeMin + float(j) * stepSize)\n",
    "                predictedVals = stumpClassify(dataMatrix, i, threshVal, inequal)\n",
    "                errArr = np.mat(np.ones((m, 1)))\n",
    "                errArr[predictedVals == labelMat] = 0\n",
    "                weightedError = D.T * errArr\n",
    "                print(\"split: dim {:d}, thresh {:.2f}, thresh inequal: {!s}, the weighted error is {:.3f}\".\n",
    "                      format(i, threshVal, inequal, float(weightedError)))\n",
    "                if weightedError < minError:\n",
    "                    minError = weightedError\n",
    "                    bestClasEst = predictedVals.copy()\n",
    "                    bestStump['dim'] = i\n",
    "                    bestStump['thresh'] = threshVal\n",
    "                    bestStump['ineq'] = inequal\n",
    "    return bestStump, minError, bestClasEst"
   ]
  },
  {
   "cell_type": "code",
   "execution_count": 4,
   "metadata": {},
   "outputs": [
    {
     "name": "stdout",
     "output_type": "stream",
     "text": [
      "split: dim 0, thresh 0.90, thresh inequal: lt, the weighted error is 0.400\n",
      "split: dim 0, thresh 0.90, thresh inequal: gt, the weighted error is 0.600\n",
      "split: dim 0, thresh 1.00, thresh inequal: lt, the weighted error is 0.400\n",
      "split: dim 0, thresh 1.00, thresh inequal: gt, the weighted error is 0.600\n",
      "split: dim 0, thresh 1.10, thresh inequal: lt, the weighted error is 0.400\n",
      "split: dim 0, thresh 1.10, thresh inequal: gt, the weighted error is 0.600\n",
      "split: dim 0, thresh 1.20, thresh inequal: lt, the weighted error is 0.400\n",
      "split: dim 0, thresh 1.20, thresh inequal: gt, the weighted error is 0.600\n",
      "split: dim 0, thresh 1.30, thresh inequal: lt, the weighted error is 0.200\n",
      "split: dim 0, thresh 1.30, thresh inequal: gt, the weighted error is 0.800\n",
      "split: dim 0, thresh 1.40, thresh inequal: lt, the weighted error is 0.200\n",
      "split: dim 0, thresh 1.40, thresh inequal: gt, the weighted error is 0.800\n",
      "split: dim 0, thresh 1.50, thresh inequal: lt, the weighted error is 0.200\n",
      "split: dim 0, thresh 1.50, thresh inequal: gt, the weighted error is 0.800\n",
      "split: dim 0, thresh 1.60, thresh inequal: lt, the weighted error is 0.200\n",
      "split: dim 0, thresh 1.60, thresh inequal: gt, the weighted error is 0.800\n",
      "split: dim 0, thresh 1.70, thresh inequal: lt, the weighted error is 0.200\n",
      "split: dim 0, thresh 1.70, thresh inequal: gt, the weighted error is 0.800\n",
      "split: dim 0, thresh 1.80, thresh inequal: lt, the weighted error is 0.200\n",
      "split: dim 0, thresh 1.80, thresh inequal: gt, the weighted error is 0.800\n",
      "split: dim 0, thresh 1.90, thresh inequal: lt, the weighted error is 0.200\n",
      "split: dim 0, thresh 1.90, thresh inequal: gt, the weighted error is 0.800\n",
      "split: dim 0, thresh 2.00, thresh inequal: lt, the weighted error is 0.600\n",
      "split: dim 0, thresh 2.00, thresh inequal: gt, the weighted error is 0.400\n",
      "split: dim 1, thresh 0.89, thresh inequal: lt, the weighted error is 0.400\n",
      "split: dim 1, thresh 0.89, thresh inequal: gt, the weighted error is 0.600\n",
      "split: dim 1, thresh 1.00, thresh inequal: lt, the weighted error is 0.200\n",
      "split: dim 1, thresh 1.00, thresh inequal: gt, the weighted error is 0.800\n",
      "split: dim 1, thresh 1.11, thresh inequal: lt, the weighted error is 0.400\n",
      "split: dim 1, thresh 1.11, thresh inequal: gt, the weighted error is 0.600\n",
      "split: dim 1, thresh 1.22, thresh inequal: lt, the weighted error is 0.400\n",
      "split: dim 1, thresh 1.22, thresh inequal: gt, the weighted error is 0.600\n",
      "split: dim 1, thresh 1.33, thresh inequal: lt, the weighted error is 0.400\n",
      "split: dim 1, thresh 1.33, thresh inequal: gt, the weighted error is 0.600\n",
      "split: dim 1, thresh 1.44, thresh inequal: lt, the weighted error is 0.400\n",
      "split: dim 1, thresh 1.44, thresh inequal: gt, the weighted error is 0.600\n",
      "split: dim 1, thresh 1.55, thresh inequal: lt, the weighted error is 0.400\n",
      "split: dim 1, thresh 1.55, thresh inequal: gt, the weighted error is 0.600\n",
      "split: dim 1, thresh 1.66, thresh inequal: lt, the weighted error is 0.400\n",
      "split: dim 1, thresh 1.66, thresh inequal: gt, the weighted error is 0.600\n",
      "split: dim 1, thresh 1.77, thresh inequal: lt, the weighted error is 0.400\n",
      "split: dim 1, thresh 1.77, thresh inequal: gt, the weighted error is 0.600\n",
      "split: dim 1, thresh 1.88, thresh inequal: lt, the weighted error is 0.400\n",
      "split: dim 1, thresh 1.88, thresh inequal: gt, the weighted error is 0.600\n",
      "split: dim 1, thresh 1.99, thresh inequal: lt, the weighted error is 0.400\n",
      "split: dim 1, thresh 1.99, thresh inequal: gt, the weighted error is 0.600\n",
      "split: dim 1, thresh 2.10, thresh inequal: lt, the weighted error is 0.600\n",
      "split: dim 1, thresh 2.10, thresh inequal: gt, the weighted error is 0.400\n"
     ]
    },
    {
     "data": {
      "text/plain": [
       "({'dim': 0, 'thresh': 1.3, 'ineq': 'lt'},\n",
       " matrix([[0.2]]),\n",
       " array([[-1.],\n",
       "        [ 1.],\n",
       "        [-1.],\n",
       "        [-1.],\n",
       "        [ 1.]]))"
      ]
     },
     "execution_count": 4,
     "metadata": {},
     "output_type": "execute_result"
    }
   ],
   "source": [
    "D = np.mat(np.ones((5, 1)) / 5)\n",
    "buildStump(datMat, classLabels, D)"
   ]
  },
  {
   "cell_type": "markdown",
   "metadata": {},
   "source": [
    "## 完整AdaBoost算法的实现"
   ]
  },
  {
   "cell_type": "code",
   "execution_count": 5,
   "metadata": {},
   "outputs": [],
   "source": [
    "def buildStump0(dataArr, classLabels, D):  # 去掉单层巨册数\n",
    "    dataMatrix = np.mat(dataArr)\n",
    "    labelMat = np.mat(classLabels).T\n",
    "    m, n = np.shape(dataMatrix)\n",
    "    numSteps = 10.0\n",
    "    bestStump = {}\n",
    "    bestClasEst = np.mat(np.zeros((m, 1)))\n",
    "    minError = np.inf\n",
    "    for i in range(n):\n",
    "        rangeMin = dataMatrix[:, i].min()\n",
    "        rangeMax = dataMatrix[:, i].max()\n",
    "        stepSize = (rangeMax - rangeMin) / numSteps\n",
    "        for j in range(-1, int(numSteps) + 1):\n",
    "            for inequal in ['lt', 'gt']:\n",
    "                threshVal = (rangeMin + float(j) * stepSize)\n",
    "                predictedVals = stumpClassify(dataMatrix, i, threshVal, inequal)\n",
    "                errArr = np.mat(np.ones((m, 1)))\n",
    "                errArr[predictedVals == labelMat] = 0\n",
    "                weightedError = D.T * errArr\n",
    "                if weightedError < minError:\n",
    "                    minError = weightedError\n",
    "                    bestClasEst = predictedVals.copy()\n",
    "                    bestStump['dim'] = i\n",
    "                    bestStump['thresh'] = threshVal\n",
    "                    bestStump['ineq'] = inequal\n",
    "    return bestStump, minError, bestClasEst\n",
    "\n",
    "\n",
    "def adaBoostTrainDS(dataArr, classLabels, numIt=40):\n",
    "    weakClassArr = []\n",
    "    m = np.shape(dataArr)[0]\n",
    "    D = np.mat(np.ones((m, 1)) / m)\n",
    "    aggClassEst = np.mat(np.zeros((m, 1)))\n",
    "    for i in range(numIt):\n",
    "        bestStump, error, classEst = buildStump0(dataArr, classLabels, D)\n",
    "        print(\"D: \", D.T)\n",
    "        alpha = float(0.5*np.log((1.0 - error) / max(error, 1e-8)))\n",
    "        bestStump['alpha'] = alpha\n",
    "        weakClassArr.append(bestStump)\n",
    "        print('classEst: ', classEst.T)\n",
    "        expon = np.multiply(-1*alpha*np.mat(classLabels).T, classEst)\n",
    "        D = np.multiply(D, np.exp(expon))\n",
    "        D = D / D.sum()\n",
    "        aggClassEst += alpha * classEst  # 每个弱分类器的类别估计权值为alpha，之后计算累计类别估计\n",
    "        print(\"aggClassEst: \", aggClassEst.T)\n",
    "        aggErrors = np.multiply(np.sign(aggClassEst) != np.mat(classLabels).T, np.ones((m, 1)))\n",
    "        errorRate = aggErrors.sum() / m  # 累计类别估计错误率\n",
    "        print(\"total errorRate: \", errorRate, \"\\n\")\n",
    "        if errorRate == 0.0:\n",
    "            break\n",
    "    return weakClassArr"
   ]
  },
  {
   "cell_type": "code",
   "execution_count": 6,
   "metadata": {
    "scrolled": false
   },
   "outputs": [
    {
     "name": "stdout",
     "output_type": "stream",
     "text": [
      "D:  [[0.2 0.2 0.2 0.2 0.2]]\n",
      "classEst:  [[-1.  1. -1. -1.  1.]]\n",
      "aggClassEst:  [[-0.69314718  0.69314718 -0.69314718 -0.69314718  0.69314718]]\n",
      "total errorRate:  0.2 \n",
      "\n",
      "D:  [[0.5   0.125 0.125 0.125 0.125]]\n",
      "classEst:  [[ 1.  1. -1. -1. -1.]]\n",
      "aggClassEst:  [[ 0.27980789  1.66610226 -1.66610226 -1.66610226 -0.27980789]]\n",
      "total errorRate:  0.2 \n",
      "\n",
      "D:  [[0.28571429 0.07142857 0.07142857 0.07142857 0.5       ]]\n",
      "classEst:  [[1. 1. 1. 1. 1.]]\n",
      "aggClassEst:  [[ 1.17568763  2.56198199 -0.77022252 -0.77022252  0.61607184]]\n",
      "total errorRate:  0.0 \n",
      "\n"
     ]
    }
   ],
   "source": [
    "classifierArray = adaBoostTrainDS(datMat, classLabels, 9)"
   ]
  },
  {
   "cell_type": "code",
   "execution_count": 7,
   "metadata": {},
   "outputs": [
    {
     "data": {
      "text/plain": [
       "[{'dim': 0, 'thresh': 1.3, 'ineq': 'lt', 'alpha': 0.6931471805599453},\n",
       " {'dim': 1, 'thresh': 1.0, 'ineq': 'lt', 'alpha': 0.9729550745276565},\n",
       " {'dim': 0, 'thresh': 0.9, 'ineq': 'lt', 'alpha': 0.8958797346140273}]"
      ]
     },
     "execution_count": 7,
     "metadata": {},
     "output_type": "execute_result"
    }
   ],
   "source": [
    "classifierArray"
   ]
  },
  {
   "cell_type": "markdown",
   "metadata": {},
   "source": [
    "## 测试算法：基于AdaBoost的分类"
   ]
  },
  {
   "cell_type": "code",
   "execution_count": 8,
   "metadata": {},
   "outputs": [],
   "source": [
    "def adaClassify(datToClass, classifierArr):\n",
    "    dataMatrix = np.mat(datToClass)\n",
    "    m = np.shape(dataMatrix)[0]\n",
    "    aggClassEst = np.mat(np.zeros((m, 1)))\n",
    "    for i in range(len(classifierArr)):\n",
    "        classEst = stumpClassify(dataMatrix, classifierArr[i]['dim'], classifierArr[i]['thresh'], \n",
    "                                 classifierArr[i]['ineq'])\n",
    "        aggClassEst += classEst * classifierArr[i]['alpha']\n",
    "        print(aggClassEst)\n",
    "    return np.sign(aggClassEst)"
   ]
  },
  {
   "cell_type": "code",
   "execution_count": 9,
   "metadata": {},
   "outputs": [
    {
     "name": "stdout",
     "output_type": "stream",
     "text": [
      "[[-0.69314718]]\n",
      "[[-1.66610226]]\n",
      "[[-2.56198199]]\n"
     ]
    },
    {
     "data": {
      "text/plain": [
       "matrix([[-1.]])"
      ]
     },
     "execution_count": 9,
     "metadata": {},
     "output_type": "execute_result"
    }
   ],
   "source": [
    "adaClassify([0, 0], classifierArray)"
   ]
  },
  {
   "cell_type": "code",
   "execution_count": 10,
   "metadata": {},
   "outputs": [
    {
     "name": "stdout",
     "output_type": "stream",
     "text": [
      "[[ 0.69314718]\n",
      " [-0.69314718]]\n",
      "[[ 1.66610226]\n",
      " [-1.66610226]]\n",
      "[[ 2.56198199]\n",
      " [-2.56198199]]\n"
     ]
    },
    {
     "data": {
      "text/plain": [
       "matrix([[ 1.],\n",
       "        [-1.]])"
      ]
     },
     "execution_count": 10,
     "metadata": {},
     "output_type": "execute_result"
    }
   ],
   "source": [
    "adaClassify([[5, 5], [0, 0]], classifierArray)"
   ]
  },
  {
   "cell_type": "markdown",
   "metadata": {},
   "source": [
    "## 在真实数据集上应用AdaBoost"
   ]
  },
  {
   "cell_type": "code",
   "execution_count": 11,
   "metadata": {},
   "outputs": [],
   "source": [
    "# 自适应数据加载函数\n",
    "def loadDataSet(fileName):\n",
    "    with open(fileName) as f:\n",
    "        numFeat = len(f.readline().split('\\t'))\n",
    "    dataMat = []\n",
    "    labelMat = []\n",
    "    with open(fileName) as fr:\n",
    "        for line in fr.readlines():\n",
    "            lineArr = []\n",
    "            curLine = line.strip().split('\\t')\n",
    "            for i in range(numFeat-1):\n",
    "                lineArr.append(float(curLine[i]))\n",
    "            dataMat.append(lineArr)\n",
    "            labelMat.append(float(curLine[-1]))\n",
    "    return dataMat, labelMat"
   ]
  },
  {
   "cell_type": "code",
   "execution_count": 12,
   "metadata": {},
   "outputs": [],
   "source": [
    "datArr, labelArr = loadDataSet('./horseColicTraining2.txt')"
   ]
  },
  {
   "cell_type": "code",
   "execution_count": 13,
   "metadata": {},
   "outputs": [],
   "source": [
    "def adaBoostTrainDS0(dataArr, classLabels, numIt=40):\n",
    "    weakClassArr = []\n",
    "    m = np.shape(dataArr)[0]\n",
    "    D = np.mat(np.ones((m, 1)) / m)\n",
    "    aggClassEst = np.mat(np.zeros((m, 1)))\n",
    "    for i in range(numIt):\n",
    "        bestStump, error, classEst = buildStump0(dataArr, classLabels, D)\n",
    "        alpha = float(0.5*np.log((1.0 - error) / max(error, 1e-8)))\n",
    "        bestStump['alpha'] = alpha\n",
    "        weakClassArr.append(bestStump)\n",
    "        expon = np.multiply(-1*alpha*np.mat(classLabels).T, classEst)\n",
    "        D = np.multiply(D, np.exp(expon))\n",
    "        D = D / D.sum()\n",
    "        aggClassEst += alpha * classEst  # 每个弱分类器的类别估计权值为alpha，之后计算累计类别估计\n",
    "        aggErrors = np.multiply(np.sign(aggClassEst) != np.mat(classLabels).T, np.ones((m, 1)))\n",
    "        errorRate = aggErrors.sum() / m  # 累计类别估计错误率\n",
    "        print(\"total errorRate: \", errorRate, \"\\n\")\n",
    "        if errorRate == 0.0:\n",
    "            break\n",
    "    return weakClassArr"
   ]
  },
  {
   "cell_type": "code",
   "execution_count": 14,
   "metadata": {},
   "outputs": [
    {
     "name": "stdout",
     "output_type": "stream",
     "text": [
      "total errorRate:  0.2842809364548495 \n",
      "\n",
      "total errorRate:  0.2842809364548495 \n",
      "\n",
      "total errorRate:  0.24749163879598662 \n",
      "\n",
      "total errorRate:  0.24749163879598662 \n",
      "\n",
      "total errorRate:  0.25418060200668896 \n",
      "\n",
      "total errorRate:  0.2408026755852843 \n",
      "\n",
      "total errorRate:  0.2408026755852843 \n",
      "\n",
      "total errorRate:  0.22073578595317725 \n",
      "\n",
      "total errorRate:  0.24749163879598662 \n",
      "\n",
      "total errorRate:  0.23076923076923078 \n",
      "\n",
      "total errorRate:  0.2408026755852843 \n",
      "\n",
      "total errorRate:  0.2140468227424749 \n",
      "\n",
      "total errorRate:  0.22742474916387959 \n",
      "\n",
      "total errorRate:  0.21739130434782608 \n",
      "\n",
      "total errorRate:  0.22073578595317725 \n",
      "\n",
      "total errorRate:  0.21739130434782608 \n",
      "\n",
      "total errorRate:  0.22408026755852842 \n",
      "\n",
      "total errorRate:  0.22408026755852842 \n",
      "\n",
      "total errorRate:  0.23076923076923078 \n",
      "\n",
      "total errorRate:  0.22408026755852842 \n",
      "\n",
      "total errorRate:  0.2140468227424749 \n",
      "\n",
      "total errorRate:  0.20735785953177258 \n",
      "\n",
      "total errorRate:  0.22408026755852842 \n",
      "\n",
      "total errorRate:  0.22408026755852842 \n",
      "\n",
      "total errorRate:  0.2140468227424749 \n",
      "\n",
      "total errorRate:  0.22073578595317725 \n",
      "\n",
      "total errorRate:  0.2040133779264214 \n",
      "\n",
      "total errorRate:  0.20735785953177258 \n",
      "\n",
      "total errorRate:  0.21070234113712374 \n",
      "\n",
      "total errorRate:  0.21739130434782608 \n",
      "\n",
      "total errorRate:  0.21070234113712374 \n",
      "\n",
      "total errorRate:  0.21739130434782608 \n",
      "\n",
      "total errorRate:  0.20735785953177258 \n",
      "\n",
      "total errorRate:  0.21070234113712374 \n",
      "\n",
      "total errorRate:  0.20735785953177258 \n",
      "\n",
      "total errorRate:  0.20735785953177258 \n",
      "\n",
      "total errorRate:  0.19732441471571907 \n",
      "\n",
      "total errorRate:  0.19063545150501673 \n",
      "\n",
      "total errorRate:  0.20066889632107024 \n",
      "\n",
      "total errorRate:  0.19732441471571907 \n",
      "\n",
      "total errorRate:  0.20066889632107024 \n",
      "\n",
      "total errorRate:  0.1939799331103679 \n",
      "\n",
      "total errorRate:  0.1939799331103679 \n",
      "\n",
      "total errorRate:  0.19063545150501673 \n",
      "\n",
      "total errorRate:  0.18729096989966554 \n",
      "\n",
      "total errorRate:  0.19063545150501673 \n",
      "\n",
      "total errorRate:  0.19063545150501673 \n",
      "\n",
      "total errorRate:  0.18729096989966554 \n",
      "\n",
      "total errorRate:  0.1939799331103679 \n",
      "\n",
      "total errorRate:  0.18729096989966554 \n",
      "\n"
     ]
    }
   ],
   "source": [
    "classifierArray = adaBoostTrainDS0(datArr, labelArr, 50)"
   ]
  },
  {
   "cell_type": "code",
   "execution_count": 15,
   "metadata": {},
   "outputs": [],
   "source": [
    "def adaClassify0(datToClass, classifierArr):\n",
    "    dataMatrix = np.mat(datToClass)\n",
    "    m = np.shape(dataMatrix)[0]\n",
    "    aggClassEst = np.mat(np.zeros((m, 1)))\n",
    "    for i in range(len(classifierArr)):\n",
    "        classEst = stumpClassify(dataMatrix, classifierArr[i]['dim'], classifierArr[i]['thresh'], \n",
    "                                 classifierArr[i]['ineq'])\n",
    "        aggClassEst += classEst * classifierArr[i]['alpha']\n",
    "    return np.sign(aggClassEst)"
   ]
  },
  {
   "cell_type": "code",
   "execution_count": 16,
   "metadata": {},
   "outputs": [],
   "source": [
    "testArr, testLabelArr = loadDataSet('./horseColicTest2.txt')\n",
    "prediction10 = adaClassify0(testArr, classifierArray)"
   ]
  },
  {
   "cell_type": "code",
   "execution_count": 17,
   "metadata": {},
   "outputs": [
    {
     "data": {
      "text/plain": [
       "14.0"
      ]
     },
     "execution_count": 17,
     "metadata": {},
     "output_type": "execute_result"
    }
   ],
   "source": [
    "errArr = np.mat(np.ones((67, 1)))\n",
    "errArr[prediction10 != np.mat(testLabelArr).T].sum()"
   ]
  },
  {
   "cell_type": "code",
   "execution_count": 18,
   "metadata": {},
   "outputs": [
    {
     "data": {
      "text/plain": [
       "0.208955223880597"
      ]
     },
     "execution_count": 18,
     "metadata": {},
     "output_type": "execute_result"
    }
   ],
   "source": [
    "14 / 67"
   ]
  },
  {
   "cell_type": "markdown",
   "metadata": {},
   "source": [
    "## 非均衡分类问题"
   ]
  },
  {
   "cell_type": "markdown",
   "metadata": {},
   "source": [
    "### ROC曲线的绘制及AUC计算函数"
   ]
  },
  {
   "cell_type": "code",
   "execution_count": 19,
   "metadata": {},
   "outputs": [],
   "source": [
    "def adaBoostTrainDS1(dataArr, classLabels, numIt=40):\n",
    "    weakClassArr = []\n",
    "    m = np.shape(dataArr)[0]\n",
    "    D = np.mat(np.ones((m, 1)) / m)\n",
    "    aggClassEst = np.mat(np.zeros((m, 1)))\n",
    "    for i in range(numIt):\n",
    "        bestStump, error, classEst = buildStump0(dataArr, classLabels, D)\n",
    "        alpha = float(0.5*np.log((1.0 - error) / max(error, 1e-8)))\n",
    "        bestStump['alpha'] = alpha\n",
    "        weakClassArr.append(bestStump)\n",
    "        expon = np.multiply(-1*alpha*np.mat(classLabels).T, classEst)\n",
    "        D = np.multiply(D, np.exp(expon))\n",
    "        D = D / D.sum()\n",
    "        aggClassEst += alpha * classEst  # 每个弱分类器的类别估计权值为alpha，之后计算累计类别估计\n",
    "        aggErrors = np.multiply(np.sign(aggClassEst) != np.mat(classLabels).T, np.ones((m, 1)))\n",
    "        errorRate = aggErrors.sum() / m  # 累计类别估计错误率\n",
    "        if errorRate == 0.0:\n",
    "            break\n",
    "    return weakClassArr, aggClassEst"
   ]
  },
  {
   "cell_type": "code",
   "execution_count": 20,
   "metadata": {},
   "outputs": [],
   "source": [
    "def plotROC(predStrengths, classLabels):\n",
    "    cur = (1.0, 1.0)\n",
    "    ySum = 0.0\n",
    "    numPosClas = sum(np.array(classLabels) == 1.0)  # 正类样本个数\n",
    "    yStep = 1 / float(numPosClas)\n",
    "    xStep = 1 / float(len(classLabels) - numPosClas)\n",
    "    sortedIndicies = predStrengths.argsort()\n",
    "    fig = plt.figure()\n",
    "    plt.clf()\n",
    "    ax = plt.subplot(111)\n",
    "    for index in sortedIndicies.tolist()[0]:\n",
    "        if classLabels[index] == 1.0:\n",
    "            delX = 0\n",
    "            delY = yStep\n",
    "        else:\n",
    "            delX = xStep\n",
    "            delY = 0\n",
    "            ySum += cur[1]\n",
    "        ax.plot([cur[0], cur[0]-delX], [cur[1], cur[1]-delY], c='b')\n",
    "        cur = [cur[0] - delX, cur[1] - delY]\n",
    "    ax.plot([0, 1], [0, 1], 'b--')\n",
    "    plt.xlabel('False Positive Rate')\n",
    "    plt.ylabel('True Positive Rate')\n",
    "    ax.axis([0, 1, 0, 1])\n",
    "    plt.show()\n",
    "    print(\"the Area Under the Curve is: \", ySum * xStep)"
   ]
  },
  {
   "cell_type": "code",
   "execution_count": 21,
   "metadata": {},
   "outputs": [
    {
     "data": {
      "image/png": "[encoded data removed]",
      "text/plain": [
       "<Figure size 432x288 with 1 Axes>"
      ]
     },
     "metadata": {
      "needs_background": "light"
     },
     "output_type": "display_data"
    },
    {
     "name": "stdout",
     "output_type": "stream",
     "text": [
      "the Area Under the Curve is:  0.8582969635063604\n"
     ]
    }
   ],
   "source": [
    "classifierArray, aggClassEst = adaBoostTrainDS1(datArr, labelArr, 10)  # 10个弱分类器\n",
    "plotROC(aggClassEst.T, labelArr)"
   ]
  },
  {
   "cell_type": "code",
   "execution_count": 22,
   "metadata": {},
   "outputs": [
    {
     "data": {
      "image/png": "[encoded data removed]",
      "text/plain": [
       "<Figure size 432x288 with 1 Axes>"
      ]
     },
     "metadata": {
      "needs_background": "light"
     },
     "output_type": "display_data"
    },
    {
     "name": "stdout",
     "output_type": "stream",
     "text": [
      "the Area Under the Curve is:  0.8953941870182941\n"
     ]
    }
   ],
   "source": [
    "classifierArray, aggClassEst = adaBoostTrainDS1(datArr, labelArr, 50)  # 50个弱分类器\n",
    "plotROC(aggClassEst.T, labelArr)"
   ]
  }
 ],
 "metadata": {
  "kernelspec": {
   "display_name": "Python 3",
   "language": "python",
   "name": "python3"
  },
  "language_info": {
   "codemirror_mode": {
    "name": "ipython",
    "version": 3
   },
   "file_extension": ".py",
   "mimetype": "text/x-python",
   "name": "python",
   "nbconvert_exporter": "python",
   "pygments_lexer": "ipython3",
   "version": "3.8.5"
  }
 },
 "nbformat": 4,
 "nbformat_minor": 4
}
